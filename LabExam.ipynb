{
  "nbformat": 4,
  "nbformat_minor": 0,
  "metadata": {
    "colab": {
      "provenance": [],
      "authorship_tag": "ABX9TyMX+v76kVPOWQ9RSyNnMxzY",
      "include_colab_link": true
    },
    "kernelspec": {
      "name": "python3",
      "display_name": "Python 3"
    },
    "language_info": {
      "name": "python"
    }
  },
  "cells": [
    {
      "cell_type": "markdown",
      "metadata": {
        "id": "view-in-github",
        "colab_type": "text"
      },
      "source": [
        "<a href=\"https://colab.research.google.com/github/SOMIDIKARTHIK/AIML-ST/blob/main/LabExam.ipynb\" target=\"_parent\"><img src=\"https://colab.research.google.com/assets/colab-badge.svg\" alt=\"Open In Colab\"/></a>"
      ]
    },
    {
      "cell_type": "code",
      "execution_count": null,
      "metadata": {
        "id": "lhfgQwpBGAtQ"
      },
      "outputs": [],
      "source": [
        "import numpy as np\n",
        "from sklearn.linear_model import LinearRegression\n",
        "from sklearn.metrics import mean_squared_error\n",
        "\n",
        "# Dataset\n",
        "X = np.array([[0.1], [0.2], [0.3], [0.4], [0.5], [0.6], [0.7], [0.9], [0.8]])\n",
        "Y = np.array([3.3, 3.6, 3.9, 4.2, 4.5, 4.8, 5.1, 5.7, 5.4])\n",
        "\n",
        "# Create and train model\n",
        "model = LinearRegression()\n",
        "model.fit(X, Y)\n",
        "\n",
        "# Predict using the model\n",
        "Y_pred = model.predict(X)\n",
        "\n",
        "# Calculate Mean Squared Error\n",
        "mse = mean_squared_error(Y, Y_pred)\n",
        "\n",
        "print(\"Predicted Y values:\", Y_pred)\n",
        "print(\"Mean Squared Error:\", mse)"
      ]
    }
  ]
}